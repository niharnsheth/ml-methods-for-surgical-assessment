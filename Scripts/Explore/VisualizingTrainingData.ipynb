{
 "cells": [
  {
   "cell_type": "markdown",
   "id": "ffb7c9b3",
   "metadata": {},
   "source": [
    "# VISUALIZING DATA #"
   ]
  },
  {
   "cell_type": "code",
   "execution_count": null,
   "id": "087457ac",
   "metadata": {},
   "outputs": [],
   "source": [
    "# Script creates visual representations of data to determine nomalization parameters and\n",
    "# appropriate filters for cleaning data\n",
    "\n",
    "# --------------------------------------------------------------------------------------------------- #\n",
    "## ---------------------      Import libraries and data       ------------------------ ##\n",
    "\n",
    "# Run this cell first before running any other cells\n",
    "\n",
    "import os\n",
    "import fnmatch\n",
    "import pandas as pd\n",
    "import numpy as np\n",
    "import matplotlib.pyplot as plt\n",
    "import time"
   ]
  },
  {
   "cell_type": "code",
   "execution_count": null,
   "id": "29be246e",
   "metadata": {},
   "outputs": [],
   "source": [
    "# Select surgery: 0 or 1\n",
    "# 0 - Pericardiocentesis\n",
    "# 1 - Thoracentesis\n",
    "surgery_selected = 1\n",
    "\n",
    "# File path to the database files\n",
    "#source_path = os.getcwd() + '/../..' + '/Data/Data_04152021'\n",
    "# source_path = os.getcwd() + '/../../Nihar/ML-data/SurgicalData'\n",
    "source_path = os.getcwd() + '/../../Nihar/ML-data/SurgicalData/Manually_Cleaned_And_Annotated_06272021'\n",
    "#save_to_folder = '/ThresholdFilter'\n",
    "\n",
    "surgery_name_list = ['/Pericardiocentesis',\n",
    "                     '/Thoracentesis']\n",
    "\n",
    "# Get list of all data directories\n",
    "#performance_list = os.listdir(source_path + surgery_name_list[surgery_selected] + '/')\n",
    "\n",
    "sensor_id_list = ['0.csv', '1.csv', '2.csv', '3.csv']\n",
    "\n",
    "# Determine the thresholds for normalization\n",
    "\n",
    "## Import data for visualization\n",
    "# obtain list of files\n",
    "\n",
    "input_folder = '/ThresholdFilter'\n",
    "save_to_folder = '/DataVisualization'\n",
    "\n",
    "# Features List\n",
    "column_name_list = ['X', 'Y', 'Z', 'W', 'Qx', 'Qy', 'Qz', 'Vx', 'Vy', 'Vz', 'VQx', 'VQy', 'VQz']\n",
    "data_type_list = ['Position', 'Orientation', 'Linear_Velocity', 'Angular_Velocity']\n",
    "action_list = ['Chloraprep', 'Scalpel_Incision', 'Trocar_Insertion', 'Anesthetizing']\n",
    "# action_list = ['Chloraprep', 'Needle_Insertion']"
   ]
  },
  {
   "cell_type": "code",
   "execution_count": null,
   "id": "e2848b72",
   "metadata": {
    "scrolled": true
   },
   "outputs": [],
   "source": [
    "action_legends = [0,0,0]\n",
    "fig, ax1 = plt.subplots()\n",
    "\n",
    "main_df = pd.DataFrame()\n",
    "seq_df = pd.DataFrame()\n",
    "\n",
    "column_index = 3\n",
    "column_name = column_name_list[3]\n",
    "data_type = data_type_list[1] # type of data, position, velocity\n",
    "action_selected = action_list[3] # surgical action\n",
    "sensor_id = 3  # sensor Id"
   ]
  },
  {
   "cell_type": "code",
   "execution_count": null,
   "id": "b03d61ac",
   "metadata": {
    "scrolled": true
   },
   "outputs": [],
   "source": [
    "# Summarize data from all samples\n",
    "df = pd.concat(samples, axis=0, ignore_index=True)\n",
    "\n",
    "# for i in range(1,len(samples)):\n",
    "#     print(\"i = %d\", i)\n",
    "#     df.append(samples[i])\n",
    "    \n",
    "print(\"Total len of df: %d\", df.shape[0])\n",
    "df.info()\n"
   ]
  },
  {
   "cell_type": "code",
   "execution_count": null,
   "id": "478c62bf",
   "metadata": {},
   "outputs": [],
   "source": [
    "df.describe()"
   ]
  },
  {
   "cell_type": "code",
   "execution_count": null,
   "id": "68ffac86",
   "metadata": {},
   "outputs": [],
   "source": []
  }
 ],
 "metadata": {
  "kernelspec": {
   "display_name": "unity_python_zeromq",
   "language": "python",
   "name": "unity_python_zeromq"
  },
  "language_info": {
   "codemirror_mode": {
    "name": "ipython",
    "version": 3
   },
   "file_extension": ".py",
   "mimetype": "text/x-python",
   "name": "python",
   "nbconvert_exporter": "python",
   "pygments_lexer": "ipython3",
   "version": "3.7.7"
  }
 },
 "nbformat": 4,
 "nbformat_minor": 5
}
