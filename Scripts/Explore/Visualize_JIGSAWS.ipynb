{
 "cells": [
  {
   "cell_type": "markdown",
   "id": "ffb7c9b3",
   "metadata": {},
   "source": [
    "# VISUALIZING DATA #"
   ]
  },
  {
   "cell_type": "code",
   "execution_count": 1,
   "id": "087457ac",
   "metadata": {},
   "outputs": [],
   "source": [
    "# Import necessary libs\n",
    "import os\n",
    "import fnmatch\n",
    "\n",
    "import numpy as np\n",
    "import pandas as pd\n",
    "import matplotlib.pyplot as plt"
   ]
  },
  {
   "cell_type": "code",
   "execution_count": 9,
   "id": "29be246e",
   "metadata": {},
   "outputs": [
    {
     "name": "stdout",
     "output_type": "stream",
     "text": [
      "Number of files:  40\n",
      "Found samples sucessfully !!\n",
      "Labels imported\n"
     ]
    }
   ],
   "source": [
    "# Get samples\n",
    "path = os.getcwd() + '\\\\..\\\\..\\\\Data\\\\JIGSAWS\\\\'\n",
    "surgical_action = 'Knot_Tying'\n",
    "path_cont = '\\\\kinematics\\\\AllGestures\\\\'\n",
    "file_list = os.listdir(path + surgical_action + path_cont)\n",
    "\n",
    "if len(file_list) > 0:\n",
    "    print(\"Number of files: \", len(file_list))\n",
    "    print(\"Found samples sucessfully !!\")\n",
    "\n",
    "# Import labels\n",
    "label_txt = \"\\\\meta_file_Knot_Tying.txt\"\n",
    "labels = pd.read_csv(path+surgical_action+label_txt, sep=\"\\s+\", header=None)\n",
    "#labels = np.loadtxt(path+surgical_action+label_txt, delimiter=\" \", usecols=range(9))\n",
    "if len(labels) > 0:\n",
    "    print(\"Labels imported\")\n",
    "    #print(labels)\n"
   ]
  },
  {
   "cell_type": "code",
   "execution_count": 12,
   "id": "2c9d142a",
   "metadata": {},
   "outputs": [
    {
     "name": "stdout",
     "output_type": "stream",
     "text": [
      "<class 'pandas.core.frame.DataFrame'>\n",
      "RangeIndex: 36 entries, 0 to 35\n",
      "Data columns (total 9 columns):\n",
      " #   Column       Non-Null Count  Dtype \n",
      "---  ------       --------------  ----- \n",
      " 0   sample_name  36 non-null     object\n",
      " 1   experience   36 non-null     object\n",
      " 2   total_score  36 non-null     int64 \n",
      " 3   ROT          36 non-null     int64 \n",
      " 4   H            36 non-null     int64 \n",
      " 5   TAM          36 non-null     int64 \n",
      " 6   FOO          36 non-null     int64 \n",
      " 7   OP           36 non-null     int64 \n",
      " 8   QFP          36 non-null     int64 \n",
      "dtypes: int64(7), object(2)\n",
      "memory usage: 2.7+ KB\n"
     ]
    },
    {
     "data": {
      "text/plain": [
       "<matplotlib.collections.PathCollection at 0x1803cea3ac8>"
      ]
     },
     "execution_count": 12,
     "metadata": {},
     "output_type": "execute_result"
    },
    {
     "data": {
      "image/png": "[encoded data removed]",
      "text/plain": [
       "<Figure size 432x288 with 1 Axes>"
      ]
     },
     "metadata": {
      "needs_background": "light"
     },
     "output_type": "display_data"
    }
   ],
   "source": [
    "labels.columns = ['sample_name', \"experience\", \"total_score\", \"ROT\", \"H\", \"TAM\", \"FOO\", \"OP\", \"QFP\"]\n",
    "#labels.groupby(['experience']).describe()\n",
    "labels.info()\n",
    "\n",
    "#plt.scatter(labels['experience'],labels['total_score'])\n",
    "plt.scatter(labels['total_score'], range(labels.shape[0]))\n",
    "#labels.describe()"
   ]
  },
  {
   "cell_type": "code",
   "execution_count": null,
   "id": "e2848b72",
   "metadata": {
    "scrolled": true
   },
   "outputs": [],
   "source": [
    "# Import data\n",
    "def is_file_empty(file_path):\n",
    "    # Check if file empty by checking size of file (0 bytes)\n",
    "    return os.path.exists(file_path) and os.stat(file_path).st_size == 0\n",
    "\n",
    "print(file_list[0])\n",
    "samples = []\n",
    "for file in file_list:\n",
    "    print(\"File: \" + file)\n",
    "    file_path = path + surgical_action + path_cont + file\n",
    "    if not is_file_empty(file_path):\n",
    "        sample = pd.read_csv(file_path, sep=\"\\s+\", header=None)    \n",
    "        sample.columns = ['m_l_x', 'm_l_y', 'm_l_z',                \n",
    "                     'm_l_r00','m_l_r01','m_l_r02',\n",
    "                     'm_l_r10','m_l_r11','m_l_r12',\n",
    "                     'm_l_r20','m_l_r21','m_l_r22',                 \n",
    "                    'm_l_vx','m_l_vy','m_l_vz',\n",
    "                    'm_l_avx','m_l_avy','m_l_avz',\n",
    "                    'm_l_ang',                 \n",
    "                    'm_r_x', 'm_r_y', 'm_r_z',                \n",
    "                     'm_r_r00','m_r_r01','m_r_r02',\n",
    "                     'm_r_r10','m_r_r11','m_r_r12',\n",
    "                     'm_r_r20','m_r_r21','m_r_r22',                 \n",
    "                    'm_r_vx','m_r_vy','m_r_vz',\n",
    "                    'm_r_avx','m_r_avy','m_r_avz',\n",
    "                    'm_r_ang',                \n",
    "                     's_l_x', 's_l_y', 's_l_z',                \n",
    "                     's_l_r00','s_l_r01','s_l_r02',\n",
    "                     's_l_r10','s_l_r11','s_l_r12',\n",
    "                     's_l_r20','s_l_r21','s_l_r22',                 \n",
    "                    's_l_vx','s_l_vy','s_l_vz',\n",
    "                    's_l_avx','s_l_avy','s_l_avz',\n",
    "                    's_l_ang',                 \n",
    "                     's_r_x', 's_r_y', 's_r_z',                \n",
    "                     's_r_r00','s_r_r01','s_r_r02',\n",
    "                     's_r_r10','s_r_r11','s_r_r12',\n",
    "                     's_r_r20','s_r_r21','s_r_r22',                 \n",
    "                    's_r_vx','s_r_vy','s_r_vz',\n",
    "                    's_r_avx','s_r_avy','s_r_avz',\n",
    "                    's_r_ang' ]\n",
    "\n",
    "        samples.append(sample)\n",
    "\n",
    "# samples[0].head()"
   ]
  },
  {
   "cell_type": "code",
   "execution_count": null,
   "id": "b03d61ac",
   "metadata": {
    "scrolled": true
   },
   "outputs": [],
   "source": [
    "# Summarize data from all samples\n",
    "df = pd.concat(samples, axis=0, ignore_index=True)\n",
    "\n",
    "# for i in range(1,len(samples)):\n",
    "#     print(\"i = %d\", i)\n",
    "#     df.append(samples[i])\n",
    "    \n",
    "print(\"Total len of df: %d\", df.shape[0])\n",
    "df.info()\n"
   ]
  },
  {
   "cell_type": "code",
   "execution_count": null,
   "id": "478c62bf",
   "metadata": {},
   "outputs": [],
   "source": [
    "df.describe()"
   ]
  },
  {
   "cell_type": "code",
   "execution_count": null,
   "id": "b58e86d4",
   "metadata": {},
   "outputs": [],
   "source": [
    "df.nunique()"
   ]
  },
  {
   "cell_type": "code",
   "execution_count": null,
   "id": "5343b546",
   "metadata": {},
   "outputs": [],
   "source": []
  }
 ],
 "metadata": {
  "kernelspec": {
   "display_name": "unity_python_zeromq",
   "language": "python",
   "name": "unity_python_zeromq"
  },
  "language_info": {
   "codemirror_mode": {
    "name": "ipython",
    "version": 3
   },
   "file_extension": ".py",
   "mimetype": "text/x-python",
   "name": "python",
   "nbconvert_exporter": "python",
   "pygments_lexer": "ipython3",
   "version": "3.7.7"
  }
 },
 "nbformat": 4,
 "nbformat_minor": 5
}
