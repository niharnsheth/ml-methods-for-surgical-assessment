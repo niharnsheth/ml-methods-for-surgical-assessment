{
 "cells": [
  {
   "cell_type": "markdown",
   "id": "ffb7c9b3",
   "metadata": {},
   "source": [
    "# VISUALIZING DATA #"
   ]
  },
  {
   "cell_type": "code",
   "execution_count": 4,
   "id": "087457ac",
   "metadata": {},
   "outputs": [],
   "source": [
    "# Import necessary libs\n",
    "import os\n",
    "import fnmatch\n",
    "\n",
    "import numpy as np\n",
    "import pandas as pd\n",
    "import matplotlib.pyplot as plt"
   ]
  },
  {
   "cell_type": "code",
   "execution_count": 26,
   "id": "29be246e",
   "metadata": {},
   "outputs": [
    {
     "name": "stdout",
     "output_type": "stream",
     "text": [
      "Number of files: %d 40\n",
      "Found samples sucessfully !!\n"
     ]
    }
   ],
   "source": [
    "# Get samples\n",
    "path = os.getcwd() + '\\\\..\\\\..\\\\Data\\\\JIGSAWS\\\\'\n",
    "surgical_action = 'Knot_Tying'\n",
    "path_cont = '\\\\kinematics\\\\AllGestures\\\\'\n",
    "file_list = os.listdir(path + surgical_action + path_cont)\n",
    "\n",
    "if len(file_list) > 0:\n",
    "    print(\"Number of files: %d\", len(file_list))\n",
    "    print(\"Found samples sucessfully !!\")\n",
    "\n",
    "    "
   ]
  },
  {
   "cell_type": "code",
   "execution_count": 29,
   "id": "e2848b72",
   "metadata": {
    "scrolled": true
   },
   "outputs": [
    {
     "name": "stdout",
     "output_type": "stream",
     "text": [
      "Knot_Tying_B001.txt\n",
      "File: Knot_Tying_B001.txt\n",
      "File: Knot_Tying_B002.txt\n",
      "File: Knot_Tying_B003.txt\n"
     ]
    },
    {
     "name": "stderr",
     "output_type": "stream",
     "text": [
      "D:\\Documents\\Nihar\\virtual_env\\unity_python_zeromq\\lib\\site-packages\\ipykernel_launcher.py:8: ParserWarning: Falling back to the 'python' engine because the 'c' engine does not support regex separators (separators > 1 char and different from '\\s+' are interpreted as regex); you can avoid this warning by specifying engine='python'.\n",
      "  \n"
     ]
    },
    {
     "name": "stdout",
     "output_type": "stream",
     "text": [
      "File: Knot_Tying_B004.txt\n",
      "File: Knot_Tying_B005.txt\n",
      "File: Knot_Tying_C001.txt\n",
      "File: Knot_Tying_C002.txt\n",
      "File: Knot_Tying_C003.txt\n",
      "File: Knot_Tying_C004.txt\n",
      "File: Knot_Tying_C005.txt\n",
      "File: Knot_Tying_D001.txt\n",
      "File: Knot_Tying_D002.txt\n",
      "File: Knot_Tying_D003.txt\n",
      "File: Knot_Tying_D004.txt\n",
      "File: Knot_Tying_D005.txt\n",
      "File: Knot_Tying_E001.txt\n",
      "File: Knot_Tying_E002.txt\n",
      "File: Knot_Tying_E003.txt\n",
      "File: Knot_Tying_E004.txt\n",
      "File: Knot_Tying_E005.txt\n",
      "File: Knot_Tying_F001.txt\n",
      "File: Knot_Tying_F002.txt\n",
      "File: Knot_Tying_F003.txt\n",
      "File: Knot_Tying_F004.txt\n",
      "File: Knot_Tying_F005.txt\n",
      "File: Knot_Tying_G001.txt\n",
      "File: Knot_Tying_G002.txt\n",
      "File: Knot_Tying_G003.txt\n",
      "File: Knot_Tying_G004.txt\n",
      "File: Knot_Tying_G005.txt\n",
      "File: Knot_Tying_H001.txt\n",
      "File: Knot_Tying_H002.txt\n"
     ]
    },
    {
     "ename": "EmptyDataError",
     "evalue": "No columns to parse from file",
     "output_type": "error",
     "traceback": [
      "\u001b[1;31m---------------------------------------------------------------------------\u001b[0m",
      "\u001b[1;31mStopIteration\u001b[0m                             Traceback (most recent call last)",
      "\u001b[1;32mD:\\Documents\\Nihar\\virtual_env\\unity_python_zeromq\\lib\\site-packages\\pandas\\io\\parsers.py\u001b[0m in \u001b[0;36m_infer_columns\u001b[1;34m(self)\u001b[0m\n\u001b[0;32m   2658\u001b[0m             \u001b[1;32mtry\u001b[0m\u001b[1;33m:\u001b[0m\u001b[1;33m\u001b[0m\u001b[1;33m\u001b[0m\u001b[0m\n\u001b[1;32m-> 2659\u001b[1;33m                 \u001b[0mline\u001b[0m \u001b[1;33m=\u001b[0m \u001b[0mself\u001b[0m\u001b[1;33m.\u001b[0m\u001b[0m_buffered_line\u001b[0m\u001b[1;33m(\u001b[0m\u001b[1;33m)\u001b[0m\u001b[1;33m\u001b[0m\u001b[1;33m\u001b[0m\u001b[0m\n\u001b[0m\u001b[0;32m   2660\u001b[0m \u001b[1;33m\u001b[0m\u001b[0m\n",
      "\u001b[1;32mD:\\Documents\\Nihar\\virtual_env\\unity_python_zeromq\\lib\\site-packages\\pandas\\io\\parsers.py\u001b[0m in \u001b[0;36m_buffered_line\u001b[1;34m(self)\u001b[0m\n\u001b[0;32m   2733\u001b[0m         \u001b[1;32melse\u001b[0m\u001b[1;33m:\u001b[0m\u001b[1;33m\u001b[0m\u001b[1;33m\u001b[0m\u001b[0m\n\u001b[1;32m-> 2734\u001b[1;33m             \u001b[1;32mreturn\u001b[0m \u001b[0mself\u001b[0m\u001b[1;33m.\u001b[0m\u001b[0m_next_line\u001b[0m\u001b[1;33m(\u001b[0m\u001b[1;33m)\u001b[0m\u001b[1;33m\u001b[0m\u001b[1;33m\u001b[0m\u001b[0m\n\u001b[0m\u001b[0;32m   2735\u001b[0m \u001b[1;33m\u001b[0m\u001b[0m\n",
      "\u001b[1;32mD:\\Documents\\Nihar\\virtual_env\\unity_python_zeromq\\lib\\site-packages\\pandas\\io\\parsers.py\u001b[0m in \u001b[0;36m_next_line\u001b[1;34m(self)\u001b[0m\n\u001b[0;32m   2830\u001b[0m             \u001b[1;32mwhile\u001b[0m \u001b[1;32mTrue\u001b[0m\u001b[1;33m:\u001b[0m\u001b[1;33m\u001b[0m\u001b[1;33m\u001b[0m\u001b[0m\n\u001b[1;32m-> 2831\u001b[1;33m                 \u001b[0morig_line\u001b[0m \u001b[1;33m=\u001b[0m \u001b[0mself\u001b[0m\u001b[1;33m.\u001b[0m\u001b[0m_next_iter_line\u001b[0m\u001b[1;33m(\u001b[0m\u001b[0mrow_num\u001b[0m\u001b[1;33m=\u001b[0m\u001b[0mself\u001b[0m\u001b[1;33m.\u001b[0m\u001b[0mpos\u001b[0m \u001b[1;33m+\u001b[0m \u001b[1;36m1\u001b[0m\u001b[1;33m)\u001b[0m\u001b[1;33m\u001b[0m\u001b[1;33m\u001b[0m\u001b[0m\n\u001b[0m\u001b[0;32m   2832\u001b[0m                 \u001b[0mself\u001b[0m\u001b[1;33m.\u001b[0m\u001b[0mpos\u001b[0m \u001b[1;33m+=\u001b[0m \u001b[1;36m1\u001b[0m\u001b[1;33m\u001b[0m\u001b[1;33m\u001b[0m\u001b[0m\n",
      "\u001b[1;32mD:\\Documents\\Nihar\\virtual_env\\unity_python_zeromq\\lib\\site-packages\\pandas\\io\\parsers.py\u001b[0m in \u001b[0;36m_next_iter_line\u001b[1;34m(self, row_num)\u001b[0m\n\u001b[0;32m   2890\u001b[0m         \u001b[1;32mtry\u001b[0m\u001b[1;33m:\u001b[0m\u001b[1;33m\u001b[0m\u001b[1;33m\u001b[0m\u001b[0m\n\u001b[1;32m-> 2891\u001b[1;33m             \u001b[1;32mreturn\u001b[0m \u001b[0mnext\u001b[0m\u001b[1;33m(\u001b[0m\u001b[0mself\u001b[0m\u001b[1;33m.\u001b[0m\u001b[0mdata\u001b[0m\u001b[1;33m)\u001b[0m\u001b[1;33m\u001b[0m\u001b[1;33m\u001b[0m\u001b[0m\n\u001b[0m\u001b[0;32m   2892\u001b[0m         \u001b[1;32mexcept\u001b[0m \u001b[0mcsv\u001b[0m\u001b[1;33m.\u001b[0m\u001b[0mError\u001b[0m \u001b[1;32mas\u001b[0m \u001b[0me\u001b[0m\u001b[1;33m:\u001b[0m\u001b[1;33m\u001b[0m\u001b[1;33m\u001b[0m\u001b[0m\n",
      "\u001b[1;31mStopIteration\u001b[0m: ",
      "\nDuring handling of the above exception, another exception occurred:\n",
      "\u001b[1;31mEmptyDataError\u001b[0m                            Traceback (most recent call last)",
      "\u001b[1;32m<ipython-input-29-e6a7ff3fd343>\u001b[0m in \u001b[0;36m<module>\u001b[1;34m\u001b[0m\n\u001b[0;32m      6\u001b[0m     sample = pd.read_csv(path+surgical_action+path_cont+file,\n\u001b[0;32m      7\u001b[0m                          \u001b[0msep\u001b[0m\u001b[1;33m=\u001b[0m\u001b[1;34m\"     \"\u001b[0m\u001b[1;33m,\u001b[0m\u001b[1;33m\u001b[0m\u001b[1;33m\u001b[0m\u001b[0m\n\u001b[1;32m----> 8\u001b[1;33m                          header=None)\n\u001b[0m\u001b[0;32m      9\u001b[0m \u001b[1;33m\u001b[0m\u001b[0m\n\u001b[0;32m     10\u001b[0m     sample.columns = ['m_l_x', 'm_l_y', 'm_l_z',                \n",
      "\u001b[1;32mD:\\Documents\\Nihar\\virtual_env\\unity_python_zeromq\\lib\\site-packages\\pandas\\io\\parsers.py\u001b[0m in \u001b[0;36mparser_f\u001b[1;34m(filepath_or_buffer, sep, delimiter, header, names, index_col, usecols, squeeze, prefix, mangle_dupe_cols, dtype, engine, converters, true_values, false_values, skipinitialspace, skiprows, skipfooter, nrows, na_values, keep_default_na, na_filter, verbose, skip_blank_lines, parse_dates, infer_datetime_format, keep_date_col, date_parser, dayfirst, cache_dates, iterator, chunksize, compression, thousands, decimal, lineterminator, quotechar, quoting, doublequote, escapechar, comment, encoding, dialect, error_bad_lines, warn_bad_lines, delim_whitespace, low_memory, memory_map, float_precision)\u001b[0m\n\u001b[0;32m    674\u001b[0m         )\n\u001b[0;32m    675\u001b[0m \u001b[1;33m\u001b[0m\u001b[0m\n\u001b[1;32m--> 676\u001b[1;33m         \u001b[1;32mreturn\u001b[0m \u001b[0m_read\u001b[0m\u001b[1;33m(\u001b[0m\u001b[0mfilepath_or_buffer\u001b[0m\u001b[1;33m,\u001b[0m \u001b[0mkwds\u001b[0m\u001b[1;33m)\u001b[0m\u001b[1;33m\u001b[0m\u001b[1;33m\u001b[0m\u001b[0m\n\u001b[0m\u001b[0;32m    677\u001b[0m \u001b[1;33m\u001b[0m\u001b[0m\n\u001b[0;32m    678\u001b[0m     \u001b[0mparser_f\u001b[0m\u001b[1;33m.\u001b[0m\u001b[0m__name__\u001b[0m \u001b[1;33m=\u001b[0m \u001b[0mname\u001b[0m\u001b[1;33m\u001b[0m\u001b[1;33m\u001b[0m\u001b[0m\n",
      "\u001b[1;32mD:\\Documents\\Nihar\\virtual_env\\unity_python_zeromq\\lib\\site-packages\\pandas\\io\\parsers.py\u001b[0m in \u001b[0;36m_read\u001b[1;34m(filepath_or_buffer, kwds)\u001b[0m\n\u001b[0;32m    446\u001b[0m \u001b[1;33m\u001b[0m\u001b[0m\n\u001b[0;32m    447\u001b[0m     \u001b[1;31m# Create the parser.\u001b[0m\u001b[1;33m\u001b[0m\u001b[1;33m\u001b[0m\u001b[1;33m\u001b[0m\u001b[0m\n\u001b[1;32m--> 448\u001b[1;33m     \u001b[0mparser\u001b[0m \u001b[1;33m=\u001b[0m \u001b[0mTextFileReader\u001b[0m\u001b[1;33m(\u001b[0m\u001b[0mfp_or_buf\u001b[0m\u001b[1;33m,\u001b[0m \u001b[1;33m**\u001b[0m\u001b[0mkwds\u001b[0m\u001b[1;33m)\u001b[0m\u001b[1;33m\u001b[0m\u001b[1;33m\u001b[0m\u001b[0m\n\u001b[0m\u001b[0;32m    449\u001b[0m \u001b[1;33m\u001b[0m\u001b[0m\n\u001b[0;32m    450\u001b[0m     \u001b[1;32mif\u001b[0m \u001b[0mchunksize\u001b[0m \u001b[1;32mor\u001b[0m \u001b[0miterator\u001b[0m\u001b[1;33m:\u001b[0m\u001b[1;33m\u001b[0m\u001b[1;33m\u001b[0m\u001b[0m\n",
      "\u001b[1;32mD:\\Documents\\Nihar\\virtual_env\\unity_python_zeromq\\lib\\site-packages\\pandas\\io\\parsers.py\u001b[0m in \u001b[0;36m__init__\u001b[1;34m(self, f, engine, **kwds)\u001b[0m\n\u001b[0;32m    878\u001b[0m             \u001b[0mself\u001b[0m\u001b[1;33m.\u001b[0m\u001b[0moptions\u001b[0m\u001b[1;33m[\u001b[0m\u001b[1;34m\"has_index_names\"\u001b[0m\u001b[1;33m]\u001b[0m \u001b[1;33m=\u001b[0m \u001b[0mkwds\u001b[0m\u001b[1;33m[\u001b[0m\u001b[1;34m\"has_index_names\"\u001b[0m\u001b[1;33m]\u001b[0m\u001b[1;33m\u001b[0m\u001b[1;33m\u001b[0m\u001b[0m\n\u001b[0;32m    879\u001b[0m \u001b[1;33m\u001b[0m\u001b[0m\n\u001b[1;32m--> 880\u001b[1;33m         \u001b[0mself\u001b[0m\u001b[1;33m.\u001b[0m\u001b[0m_make_engine\u001b[0m\u001b[1;33m(\u001b[0m\u001b[0mself\u001b[0m\u001b[1;33m.\u001b[0m\u001b[0mengine\u001b[0m\u001b[1;33m)\u001b[0m\u001b[1;33m\u001b[0m\u001b[1;33m\u001b[0m\u001b[0m\n\u001b[0m\u001b[0;32m    881\u001b[0m \u001b[1;33m\u001b[0m\u001b[0m\n\u001b[0;32m    882\u001b[0m     \u001b[1;32mdef\u001b[0m \u001b[0mclose\u001b[0m\u001b[1;33m(\u001b[0m\u001b[0mself\u001b[0m\u001b[1;33m)\u001b[0m\u001b[1;33m:\u001b[0m\u001b[1;33m\u001b[0m\u001b[1;33m\u001b[0m\u001b[0m\n",
      "\u001b[1;32mD:\\Documents\\Nihar\\virtual_env\\unity_python_zeromq\\lib\\site-packages\\pandas\\io\\parsers.py\u001b[0m in \u001b[0;36m_make_engine\u001b[1;34m(self, engine)\u001b[0m\n\u001b[0;32m   1124\u001b[0m                     \u001b[1;34m'\"python-fwf\")'\u001b[0m\u001b[1;33m\u001b[0m\u001b[1;33m\u001b[0m\u001b[0m\n\u001b[0;32m   1125\u001b[0m                 )\n\u001b[1;32m-> 1126\u001b[1;33m             \u001b[0mself\u001b[0m\u001b[1;33m.\u001b[0m\u001b[0m_engine\u001b[0m \u001b[1;33m=\u001b[0m \u001b[0mklass\u001b[0m\u001b[1;33m(\u001b[0m\u001b[0mself\u001b[0m\u001b[1;33m.\u001b[0m\u001b[0mf\u001b[0m\u001b[1;33m,\u001b[0m \u001b[1;33m**\u001b[0m\u001b[0mself\u001b[0m\u001b[1;33m.\u001b[0m\u001b[0moptions\u001b[0m\u001b[1;33m)\u001b[0m\u001b[1;33m\u001b[0m\u001b[1;33m\u001b[0m\u001b[0m\n\u001b[0m\u001b[0;32m   1127\u001b[0m \u001b[1;33m\u001b[0m\u001b[0m\n\u001b[0;32m   1128\u001b[0m     \u001b[1;32mdef\u001b[0m \u001b[0m_failover_to_python\u001b[0m\u001b[1;33m(\u001b[0m\u001b[0mself\u001b[0m\u001b[1;33m)\u001b[0m\u001b[1;33m:\u001b[0m\u001b[1;33m\u001b[0m\u001b[1;33m\u001b[0m\u001b[0m\n",
      "\u001b[1;32mD:\\Documents\\Nihar\\virtual_env\\unity_python_zeromq\\lib\\site-packages\\pandas\\io\\parsers.py\u001b[0m in \u001b[0;36m__init__\u001b[1;34m(self, f, **kwds)\u001b[0m\n\u001b[0;32m   2284\u001b[0m             \u001b[0mself\u001b[0m\u001b[1;33m.\u001b[0m\u001b[0mnum_original_columns\u001b[0m\u001b[1;33m,\u001b[0m\u001b[1;33m\u001b[0m\u001b[1;33m\u001b[0m\u001b[0m\n\u001b[0;32m   2285\u001b[0m             \u001b[0mself\u001b[0m\u001b[1;33m.\u001b[0m\u001b[0munnamed_cols\u001b[0m\u001b[1;33m,\u001b[0m\u001b[1;33m\u001b[0m\u001b[1;33m\u001b[0m\u001b[0m\n\u001b[1;32m-> 2286\u001b[1;33m         ) = self._infer_columns()\n\u001b[0m\u001b[0;32m   2287\u001b[0m \u001b[1;33m\u001b[0m\u001b[0m\n\u001b[0;32m   2288\u001b[0m         \u001b[1;31m# Now self.columns has the set of columns that we will process.\u001b[0m\u001b[1;33m\u001b[0m\u001b[1;33m\u001b[0m\u001b[1;33m\u001b[0m\u001b[0m\n",
      "\u001b[1;32mD:\\Documents\\Nihar\\virtual_env\\unity_python_zeromq\\lib\\site-packages\\pandas\\io\\parsers.py\u001b[0m in \u001b[0;36m_infer_columns\u001b[1;34m(self)\u001b[0m\n\u001b[0;32m   2661\u001b[0m             \u001b[1;32mexcept\u001b[0m \u001b[0mStopIteration\u001b[0m\u001b[1;33m:\u001b[0m\u001b[1;33m\u001b[0m\u001b[1;33m\u001b[0m\u001b[0m\n\u001b[0;32m   2662\u001b[0m                 \u001b[1;32mif\u001b[0m \u001b[1;32mnot\u001b[0m \u001b[0mnames\u001b[0m\u001b[1;33m:\u001b[0m\u001b[1;33m\u001b[0m\u001b[1;33m\u001b[0m\u001b[0m\n\u001b[1;32m-> 2663\u001b[1;33m                     \u001b[1;32mraise\u001b[0m \u001b[0mEmptyDataError\u001b[0m\u001b[1;33m(\u001b[0m\u001b[1;34m\"No columns to parse from file\"\u001b[0m\u001b[1;33m)\u001b[0m\u001b[1;33m\u001b[0m\u001b[1;33m\u001b[0m\u001b[0m\n\u001b[0m\u001b[0;32m   2664\u001b[0m \u001b[1;33m\u001b[0m\u001b[0m\n\u001b[0;32m   2665\u001b[0m                 \u001b[0mline\u001b[0m \u001b[1;33m=\u001b[0m \u001b[0mnames\u001b[0m\u001b[1;33m[\u001b[0m\u001b[1;33m:\u001b[0m\u001b[1;33m]\u001b[0m\u001b[1;33m\u001b[0m\u001b[1;33m\u001b[0m\u001b[0m\n",
      "\u001b[1;31mEmptyDataError\u001b[0m: No columns to parse from file"
     ]
    }
   ],
   "source": [
    "# Import data\n",
    "def is_file_empty(file_path):\n",
    "    # Check if file empty by checking size of file (0 bytes)\n",
    "    return os.path.exists(file_path) and os.stat(file_path).st_size == 0\n",
    "\n",
    "print(file_list[0])\n",
    "samples = []\n",
    "for file in file_list:\n",
    "    print(\"File: \" + file)\n",
    "    file_path = path + surgical_action + path_cont + file\n",
    "    if is_file_empty(file_path)\n",
    "    sample = pd.read_csv(file_path, sep=\"     \", header=None)    \n",
    "    sample.columns = ['m_l_x', 'm_l_y', 'm_l_z',                \n",
    "                 'm_l_r00','m_l_r01','m_l_r02',\n",
    "                 'm_l_r10','m_l_r11','m_l_r12',\n",
    "                 'm_l_r20','m_l_r21','m_l_r22',                 \n",
    "                'm_l_vx','m_l_vy','m_l_vz',\n",
    "                'm_l_avx','m_l_avy','m_l_avz',\n",
    "                'm_l_ang',                 \n",
    "                'm_r_x', 'm_r_y', 'm_r_z',                \n",
    "                 'm_r_r00','m_r_r01','m_r_r02',\n",
    "                 'm_r_r10','m_r_r11','m_r_r12',\n",
    "                 'm_r_r20','m_r_r21','m_r_r22',                 \n",
    "                'm_r_vx','m_r_vy','m_r_vz',\n",
    "                'm_r_avx','m_r_avy','m_r_avz',\n",
    "                'm_r_ang',                \n",
    "                 's_l_x', 's_l_y', 's_l_z',                \n",
    "                 's_l_r00','s_l_r01','s_l_r02',\n",
    "                 's_l_r10','s_l_r11','s_l_r12',\n",
    "                 's_l_r20','s_l_r21','s_l_r22',                 \n",
    "                's_l_vx','s_l_vy','s_l_vz',\n",
    "                's_l_avx','s_l_avy','s_l_avz',\n",
    "                's_l_ang',                 \n",
    "                 's_r_x', 's_r_y', 's_r_z',                \n",
    "                 's_r_r00','s_r_r01','s_r_r02',\n",
    "                 's_r_r10','s_r_r11','s_r_r12',\n",
    "                 's_r_r20','s_r_r21','s_r_r22',                 \n",
    "                's_r_vx','s_r_vy','s_r_vz',\n",
    "                's_r_avx','s_r_avy','s_r_avz',\n",
    "                's_r_ang' ]\n",
    "\n",
    "    samples.append(sample)\n",
    "\n",
    "samples[0].head()"
   ]
  },
  {
   "cell_type": "code",
   "execution_count": 18,
   "id": "b03d61ac",
   "metadata": {
    "scrolled": true
   },
   "outputs": [
    {
     "name": "stdout",
     "output_type": "stream",
     "text": [
      "<class 'pandas.core.frame.DataFrame'>\n",
      "RangeIndex: 1735 entries, 0 to 1734\n",
      "Data columns (total 76 columns):\n",
      " #   Column   Non-Null Count  Dtype  \n",
      "---  ------   --------------  -----  \n",
      " 0   m_l_x    1735 non-null   float64\n",
      " 1   m_l_y    1735 non-null   float64\n",
      " 2   m_l_z    1735 non-null   float64\n",
      " 3   m_l_r00  1735 non-null   float64\n",
      " 4   m_l_r01  1735 non-null   float64\n",
      " 5   m_l_r02  1735 non-null   float64\n",
      " 6   m_l_r10  1735 non-null   float64\n",
      " 7   m_l_r11  1735 non-null   float64\n",
      " 8   m_l_r12  1735 non-null   float64\n",
      " 9   m_l_r20  1735 non-null   float64\n",
      " 10  m_l_r21  1735 non-null   float64\n",
      " 11  m_l_r22  1735 non-null   float64\n",
      " 12  m_l_vx   1735 non-null   float64\n",
      " 13  m_l_vy   1735 non-null   float64\n",
      " 14  m_l_vz   1735 non-null   float64\n",
      " 15  m_l_avx  1735 non-null   float64\n",
      " 16  m_l_avy  1735 non-null   float64\n",
      " 17  m_l_avz  1735 non-null   float64\n",
      " 18  m_l_ang  1735 non-null   float64\n",
      " 19  m_r_x    1735 non-null   float64\n",
      " 20  m_r_y    1735 non-null   float64\n",
      " 21  m_r_z    1735 non-null   float64\n",
      " 22  m_r_r00  1735 non-null   float64\n",
      " 23  m_r_r01  1735 non-null   float64\n",
      " 24  m_r_r02  1735 non-null   float64\n",
      " 25  m_r_r10  1735 non-null   float64\n",
      " 26  m_r_r11  1735 non-null   float64\n",
      " 27  m_r_r12  1735 non-null   float64\n",
      " 28  m_r_r20  1735 non-null   float64\n",
      " 29  m_r_r21  1735 non-null   float64\n",
      " 30  m_r_r22  1735 non-null   float64\n",
      " 31  m_r_vx   1735 non-null   float64\n",
      " 32  m_r_vy   1735 non-null   float64\n",
      " 33  m_r_vz   1735 non-null   float64\n",
      " 34  m_r_avx  1735 non-null   float64\n",
      " 35  m_r_avy  1735 non-null   float64\n",
      " 36  m_r_avz  1735 non-null   float64\n",
      " 37  m_r_ang  1735 non-null   float64\n",
      " 38  s_l_x    1735 non-null   float64\n",
      " 39  s_l_y    1735 non-null   float64\n",
      " 40  s_l_z    1735 non-null   float64\n",
      " 41  s_l_r00  1735 non-null   float64\n",
      " 42  s_l_r01  1735 non-null   float64\n",
      " 43  s_l_r02  1735 non-null   float64\n",
      " 44  s_l_r10  1735 non-null   float64\n",
      " 45  s_l_r11  1735 non-null   float64\n",
      " 46  s_l_r12  1735 non-null   float64\n",
      " 47  s_l_r20  1735 non-null   float64\n",
      " 48  s_l_r21  1735 non-null   float64\n",
      " 49  s_l_r22  1735 non-null   float64\n",
      " 50  s_l_vx   1735 non-null   float64\n",
      " 51  s_l_vy   1735 non-null   float64\n",
      " 52  s_l_vz   1735 non-null   float64\n",
      " 53  s_l_avx  1735 non-null   float64\n",
      " 54  s_l_avy  1735 non-null   float64\n",
      " 55  s_l_avz  1735 non-null   float64\n",
      " 56  s_l_ang  1735 non-null   float64\n",
      " 57  s_r_x    1735 non-null   float64\n",
      " 58  s_r_y    1735 non-null   float64\n",
      " 59  s_r_z    1735 non-null   float64\n",
      " 60  s_r_r00  1735 non-null   float64\n",
      " 61  s_r_r01  1735 non-null   float64\n",
      " 62  s_r_r02  1735 non-null   float64\n",
      " 63  s_r_r10  1735 non-null   float64\n",
      " 64  s_r_r11  1735 non-null   float64\n",
      " 65  s_r_r12  1735 non-null   float64\n",
      " 66  s_r_r20  1735 non-null   float64\n",
      " 67  s_r_r21  1735 non-null   float64\n",
      " 68  s_r_r22  1735 non-null   float64\n",
      " 69  s_r_vx   1735 non-null   float64\n",
      " 70  s_r_vy   1735 non-null   float64\n",
      " 71  s_r_vz   1735 non-null   float64\n",
      " 72  s_r_avx  1735 non-null   float64\n",
      " 73  s_r_avy  1735 non-null   float64\n",
      " 74  s_r_avz  1735 non-null   float64\n",
      " 75  s_r_ang  1735 non-null   float64\n",
      "dtypes: float64(76)\n",
      "memory usage: 1.0 MB\n"
     ]
    }
   ],
   "source": [
    "sample.info()"
   ]
  },
  {
   "cell_type": "code",
   "execution_count": null,
   "id": "478c62bf",
   "metadata": {},
   "outputs": [],
   "source": []
  }
 ],
 "metadata": {
  "kernelspec": {
   "display_name": "unity_python_zeromq",
   "language": "python",
   "name": "unity_python_zeromq"
  },
  "language_info": {
   "codemirror_mode": {
    "name": "ipython",
    "version": 3
   },
   "file_extension": ".py",
   "mimetype": "text/x-python",
   "name": "python",
   "nbconvert_exporter": "python",
   "pygments_lexer": "ipython3",
   "version": "3.7.7"
  }
 },
 "nbformat": 4,
 "nbformat_minor": 5
}
